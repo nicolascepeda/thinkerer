{
 "cells": [
  {
   "cell_type": "code",
   "execution_count": 52,
   "id": "c225ed1e-6d50-4804-b3dd-0c262fb456d1",
   "metadata": {},
   "outputs": [],
   "source": [
    "import os\n",
    "from dotenv import load_dotenv\n",
    "import re\n",
    "\n",
    "from groq import Groq"
   ]
  },
  {
   "cell_type": "markdown",
   "id": "d77852ae-0bef-4cad-9b9c-25d3f510bb9f",
   "metadata": {},
   "source": [
    "## Get the API key"
   ]
  },
  {
   "cell_type": "code",
   "execution_count": 53,
   "id": "a8d72a39-34ae-42d3-8ebe-2e8ffa6967bc",
   "metadata": {},
   "outputs": [
    {
     "name": "stdout",
     "output_type": "stream",
     "text": [
      "56\n"
     ]
    }
   ],
   "source": [
    "load_dotenv()\n",
    "GROQ_API_KEY = os.getenv(\"GROQ_API_KEY\")\n",
    "print(len(GROQ_API_KEY))"
   ]
  },
  {
   "cell_type": "markdown",
   "id": "74600751-a762-4e7e-8b98-19d63f4d640a",
   "metadata": {},
   "source": [
    "## Client"
   ]
  },
  {
   "cell_type": "code",
   "execution_count": 54,
   "id": "85383a8a-e590-476c-8207-7fc9024fd309",
   "metadata": {},
   "outputs": [],
   "source": [
    "client = Groq(\n",
    "    api_key=GROQ_API_KEY,\n",
    ")"
   ]
  },
  {
   "cell_type": "markdown",
   "id": "ec9ca0dc-f996-4c29-b423-adb0ff1a6fb6",
   "metadata": {},
   "source": [
    "## Prompts"
   ]
  },
  {
   "cell_type": "code",
   "execution_count": 55,
   "id": "477459f8-0978-467e-a11c-744855caf943",
   "metadata": {},
   "outputs": [],
   "source": [
    "# CLASS_PROMPT : classifier prompt\n",
    "# NEWS_PROMPT : current events prompt\n",
    "# COMPANY_PROMPT : company prompt\n",
    "# THINK_PROMPT : thinking companion prompt"
   ]
  },
  {
   "cell_type": "code",
   "execution_count": 56,
   "id": "dba45b60-7612-4fae-930c-a75378531e6c",
   "metadata": {},
   "outputs": [],
   "source": [
    "CLASS_PROMPT = \"\"\"\n",
    "Look at the user query.\n",
    "Is it a question about a current event / political topic? If so, return 1.\n",
    "Is it a question about a company or an investment opportunity? If so, return 2.\n",
    "Is it a general question requiring a thinking companion? If so, return 3.\n",
    "If it's impossible to fit any of the preceding descriptions, return 4.\n",
    "Don't return anything else. Just one number. Nothing else. No explanations. You should return one single symbol. Double-check that.\n",
    "\"\"\""
   ]
  },
  {
   "cell_type": "code",
   "execution_count": 57,
   "id": "72db8a96-5997-4f4a-8ef1-bd1c20418eb1",
   "metadata": {},
   "outputs": [],
   "source": [
    "NEWS_PROMPT = \"\"\"\n",
    "You are a talented political commentator who's able to comment on a political event from multiple angles. \n",
    "You will be given a current political event/topic. \n",
    "Return a JSON object with the following data (look at the name of the parameter and its explanation): \n",
    "    \"topic\", // The name of the topic/event\n",
    "    \"timeline\", // Date, like January 2020 -- March 2022\n",
    "    \"summary\",  // This is a compressed UNBIASED summary of the commentaries from different political views\n",
    "    \"left_wing_commentary\", // What is the left-wing view of the event?\n",
    "    \"right_wing_commentary\", // What is the right-wing view of the event?\n",
    "    \"list_of_last_news\". // Every piece of news is structured as follows: \"news_story\", \"date\", \"source\", \"bias_level\". \"bias_level\" is a float between 0.0 (unbiased) and 1.0 (extremely biased and one-sided).\n",
    "Make sure that you respect the provided schema of the JSON object.\n",
    "Don't return anything else. Just the JSON.\n",
    "    \"\"\""
   ]
  },
  {
   "cell_type": "markdown",
   "id": "8030b117-0220-4bca-bb1e-814c16fdd345",
   "metadata": {},
   "source": [
    "## Classifier"
   ]
  },
  {
   "cell_type": "code",
   "execution_count": 58,
   "id": "48a42fa4-6c94-41f1-9189-e8a89dd6f6e1",
   "metadata": {},
   "outputs": [],
   "source": [
    "def get_mode(user_input):\n",
    "    chat_completion = client.chat.completions.create(\n",
    "        messages=[\n",
    "            {\n",
    "                \"role\": \"system\",\n",
    "                \"content\": CLASS_PROMPT,\n",
    "            },\n",
    "            {\n",
    "                \"role\": \"user\",\n",
    "                \"content\": user_input,\n",
    "            }\n",
    "        ],\n",
    "        model=\"mixtral-8x7b-32768\",\n",
    "    )\n",
    "\n",
    "    model_output = chat_completion.choices[0].message.content\n",
    "\n",
    "    # Make sure that the classifier outputs a single number\n",
    "    regex = re.compile(r'(\\d+).*', flags=re.DOTALL)\n",
    "    result = regex.search(model_output).group(1)\n",
    "    result = int(result) if result is not None else 4\n",
    "\n",
    "    return result"
   ]
  },
  {
   "cell_type": "code",
   "execution_count": 59,
   "id": "e435ee64-bae0-4575-9cee-d0c515e83e8e",
   "metadata": {},
   "outputs": [
    {
     "name": "stdout",
     "output_type": "stream",
     "text": [
      "1\n",
      "2\n",
      "3\n",
      "4\n"
     ]
    }
   ],
   "source": [
    "print(get_mode(\"Ukraine War\"))\n",
    "print(get_mode(\"Tesla, Inc.\"))\n",
    "print(get_mode(\"Let's discuss Daniel Kahneman's book, Thinking Fast and Slow.\"))\n",
    "print(get_mode(\"whatever whatever whatever whatever\"))"
   ]
  },
  {
   "cell_type": "markdown",
   "id": "c3383759-70d9-45da-b4c4-69eca7d151fc",
   "metadata": {},
   "source": [
    "## Quering"
   ]
  },
  {
   "cell_type": "code",
   "execution_count": 40,
   "id": "1c0fd34d-7d18-4957-b873-17c933467e72",
   "metadata": {},
   "outputs": [],
   "source": [
    "def news_query(user_input):\n",
    "    chat_completion = client.chat.completions.create(\n",
    "        messages=[\n",
    "            {\n",
    "                \"role\": \"system\",\n",
    "                \"content\": NEWS_PROMPT,\n",
    "            },\n",
    "            {\n",
    "                \"role\": \"user\",\n",
    "                \"content\": user_input,\n",
    "            }\n",
    "        ],\n",
    "        model=\"mixtral-8x7b-32768\",\n",
    "    )\n",
    "\n",
    "    return chat_completion.choices[0].message.content"
   ]
  },
  {
   "cell_type": "code",
   "execution_count": 42,
   "id": "26c34a7d-2808-4e80-9c61-c1366a650f5b",
   "metadata": {},
   "outputs": [
    {
     "name": "stdout",
     "output_type": "stream",
     "text": [
      "{\n",
      "  \"topic\": \"Ukraine War\",\n",
      "  \"timeline\": \"February 2014 -- Present\",\n",
      "  \"summary\": \"The Ukraine war is a complex and multifaceted conflict that began in 2014, following the Ukrainian Revolution and the annexation of Crimea by the Russian Federation. The war has resulted in thousands of deaths and displacement of millions of people. Both the Ukrainian government and Russian-backed separatists have been accused of human rights abuses and war crimes. Efforts to negotiate a peaceful resolution to the conflict have been unsuccessful.\",\n",
      "  \"left_wing_commentary\": \"The left-wing view of the Ukraine war emphasizes the role of Russian aggression and the need for Ukrainian sovereignty. Left-wing commentators often criticize the Russian government for its interference in Ukrainian internal affairs and its support for separatist movements in Eastern Ukraine. They also argue for the provision of military aid to the Ukrainian government and support for international sanctions against Russia. Additionally, left-wing commentators often express solidarity with the Ukrainian people and their struggle for democracy and self-determination.\",\n",
      "  \"right_wing_commentary\": \"The right-wing view of the Ukraine war focuses on the need to contain Russian expansionism and the dangers of appeasing Russia. Right-wing commentators often criticize the Ukrainian government for its corruption, incompetence, and inability to deal with the separatist movements. They also argue for a hardline approach towards Russia, including the provision of military aid to Ukraine, the strengthening of NATO, and the imposition of harsher sanctions against Russia. Right-wing commentators are also more likely to downplay the human rights abuses committed by Ukrainian forces and to emphasize the threat posed by Russian aggression.\",\n",
      "  \"list_of_last_news\": [\n",
      "    {\n",
      "      \"news_story\": \"Ukraine accuses Russia of sending troops and weapons across border\",\n",
      "      \"date\": \"March 22, 2022\",\n",
      "      \"source\": \"Reuters\",\n",
      "      \"bias_level\": 0.5\n",
      "    },\n",
      "    {\n",
      "      \"news_story\": \"Separatist leaders in Eastern Ukraine announce referendum on independence\",\n",
      "      \"date\": \"March 21, 2022\",\n",
      "      \"source\": \"BBC News\",\n",
      "      \"bias_level\": 0.6\n",
      "    },\n",
      "    {\n",
      "      \"news_story\": \"Ukraine conducts military exercises near Russian border\",\n",
      "      \"date\": \"March 20, 2022\",\n",
      "      \"source\": \"Al Jazeera\",\n",
      "      \"bias_level\": 0.4\n",
      "    },\n",
      "    {\n",
      "      \"news_story\": \"Russia denies involvement in cyber attacks on Ukraine\",\n",
      "      \"date\": \"March 19, 2022\",\n",
      "      \"source\": \"CNN\",\n",
      "      \"bias_level\": 0.7\n",
      "    },\n",
      "    {\n",
      "      \"news_story\": \"Ukrainian President urges EU to impose sanctions on Russia\",\n",
      "      \"date\": \"March 18, 2022\",\n",
      "      \"source\": \"Deutsche Welle\",\n",
      "      \"bias_level\": 0.3\n",
      "    }\n",
      "  ]\n",
      "}\n"
     ]
    }
   ],
   "source": [
    "print(news_query(\"Ukraine war\"))"
   ]
  }
 ],
 "metadata": {
  "kernelspec": {
   "display_name": "Python 3 (ipykernel)",
   "language": "python",
   "name": "python3"
  },
  "language_info": {
   "codemirror_mode": {
    "name": "ipython",
    "version": 3
   },
   "file_extension": ".py",
   "mimetype": "text/x-python",
   "name": "python",
   "nbconvert_exporter": "python",
   "pygments_lexer": "ipython3",
   "version": "3.11.8"
  }
 },
 "nbformat": 4,
 "nbformat_minor": 5
}
