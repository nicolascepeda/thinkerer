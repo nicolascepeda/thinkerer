{
 "cells": [
  {
   "cell_type": "code",
   "execution_count": 19,
   "metadata": {},
   "outputs": [
    {
     "name": "stdout",
     "output_type": "stream",
     "text": [
      "{\n",
      "    \"title\": \"Ukraine-Russia Conflict\",\n",
      "    \"neutral_summary\": \"The ongoing conflict between Ukraine and Russia has resulted in significant humanitarian and economic consequences. The situation remains volatile, with both sides accusing each other of aggression.\",\n",
      "    \"events\": [\n",
      "        {\n",
      "            \"date\": \"2014-03-18\",\n",
      "            \"title\": \"Russia Annexes Crimea\",\n",
      "            \"neutral_summary\": \"Russia annexed Crimea, a peninsula in Ukraine, following a referendum in which the majority of voters supported joining Russia.\",\n",
      "            \"comments_political_left\": \"This is a clear violation of Ukraine's sovereignty and a threat to regional stability.\",\n",
      "            \"comments_political_right\": \"The annexation is a necessary step to protect ethnic Russians in Crimea and maintain regional balance.\"\n",
      "        },\n",
      "        {\n",
      "            \"date\": \"2015-02-12\",\n",
      "            \"title\": \"Minsk II Ceasefire Agreement\",\n",
      "            \"neutral_summary\": \"The Minsk II agreement was signed, aiming to end the conflict in eastern Ukraine. The agreement included a ceasefire, withdrawal of heavy weapons, and constitutional reforms.\",\n",
      "            \"comments_political_left\": \"This agreement is a crucial step towards peace, but its implementation is uncertain.\",\n",
      "            \"comments_political_right\": \"The agreement is a necessary compromise to prevent further escalation, but its effectiveness is doubtful.\"\n",
      "        },\n",
      "        {\n",
      "            \"date\": \"2022-02-24\",\n",
      "            \"title\": \"Russian Invasion of Ukraine\",\n",
      "            \"neutral_summary\": \"Russia launched a large-scale invasion of Ukraine, resulting in significant military clashes and humanitarian crises.\",\n",
      "            \"comments_political_left\": \"This is a blatant act of aggression, and the international community must condemn Russia's actions.\",\n",
      "            \"comments_political_right\": \"The invasion is a necessary response to NATO's expansion and Ukraine's perceived threat to Russian national security.\"\n",
      "        }\n",
      "    ]\n",
      "}\n"
     ]
    }
   ],
   "source": [
    "import importlib\n",
    "import llm\n",
    "import json\n",
    "importlib.reload(llm)\n",
    "\n",
    "print(json.dumps(llm.world_event(\"Ukrain war\"), indent=4))"
   ]
  }
 ],
 "metadata": {
  "kernelspec": {
   "display_name": "bank-gpt",
   "language": "python",
   "name": "python3"
  },
  "language_info": {
   "codemirror_mode": {
    "name": "ipython",
    "version": 3
   },
   "file_extension": ".py",
   "mimetype": "text/x-python",
   "name": "python",
   "nbconvert_exporter": "python",
   "pygments_lexer": "ipython3",
   "version": "3.12.3"
  }
 },
 "nbformat": 4,
 "nbformat_minor": 2
}
