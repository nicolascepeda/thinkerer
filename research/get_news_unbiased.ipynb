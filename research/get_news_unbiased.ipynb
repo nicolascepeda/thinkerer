{
 "cells": [
  {
   "metadata": {},
   "cell_type": "code",
   "outputs": [],
   "execution_count": null,
   "source": [
    "!pip install langchain\n",
    "!pip install requests\n",
    "!pip install html2text\n",
    "!pip install groq"
   ],
   "id": "5e8bc5230628eb67"
  },
  {
   "metadata": {
    "ExecuteTime": {
     "end_time": "2024-04-20T12:30:59.436965Z",
     "start_time": "2024-04-20T12:30:58.721435Z"
    }
   },
   "cell_type": "code",
   "source": [
    "from langchain.utilities import GoogleSerperAPIWrapper\n",
    "from time import sleep\n",
    "import requests\n",
    "from html2text import HTML2Text\n",
    "import keys\n",
    "from groq import Groq\n",
    "import warnings\n",
    "\n",
    "warnings.filterwarnings(\"ignore\", category=DeprecationWarning)\n",
    "client = Groq(api_key=keys.GROQ_API_KEY)"
   ],
   "id": "5ac68b8b8aa2d7d5",
   "outputs": [],
   "execution_count": 1
  },
  {
   "cell_type": "code",
   "id": "initial_id",
   "metadata": {
    "collapsed": true,
    "ExecuteTime": {
     "end_time": "2024-04-20T12:31:01.044190Z",
     "start_time": "2024-04-20T12:31:01.037696Z"
    }
   },
   "source": [
    "def groq_call(text, system_content, temperature=0.0, max_tokens=1024):\n",
    "    res = client.chat.completions.create(\n",
    "        messages=[\n",
    "            {\n",
    "                \"role\": \"system\",\n",
    "                \"content\": system_content\n",
    "            },\n",
    "            {\n",
    "                \"role\": \"user\",\n",
    "                \"content\": \"Here is a news article to analyze: \" + text,\n",
    "            }\n",
    "        ],\n",
    "        model=\"llama3-70b-8192\", #llama3-8b-8192, #llama3-70b-8192\n",
    "        temperature=temperature,\n",
    "        max_tokens=max_tokens\n",
    "    )\n",
    "    return res.choices[0].message.content\n",
    "\n",
    "\n",
    "def find_links(event, num_results=1):\n",
    "    search = GoogleSerperAPIWrapper(k=num_results, serper_api_key=keys.SERPER_API_KEY)\n",
    "    results = search.results(f\"{event}\")\n",
    "    if \"topStories\" in results and results[\"topStories\"] != []:\n",
    "        links = [results[\"topStories\"][i][\"link\"] for i in range(num_results)]\n",
    "    elif \"organic\" in results and results[\"organic\"] != []:\n",
    "        links = [results[\"organic\"][i][\"link\"] for i in range(num_results)]\n",
    "    else:\n",
    "        links = []\n",
    "    return links\n",
    "    \n",
    "    \n",
    "def scrape_links(urls):\n",
    "    news = []\n",
    "    for url in urls:\n",
    "        url = url.strip()\n",
    "        print(f\"Scraping website {url}...\")\n",
    "        r = requests.get(url)\n",
    "        if r.status_code == 200:\n",
    "            h = HTML2Text()\n",
    "            h.ignore_links = True\n",
    "            h.ignore_images = True\n",
    "            text = h.handle(r.text)\n",
    "            lines = text.split('\\n')\n",
    "            filtered_lines = [line for line in lines if '*' not in line]\n",
    "            text = '\\n'.join(filtered_lines)\n",
    "            news.append(f\"{{'url': '{url}', 'content': '{text}'}}\")\n",
    "            sleep(2)  \n",
    "        else:\n",
    "            print(f\"HTTP request failed with {r.status_code}.\")\n",
    "    return news\n",
    "\n",
    "\n",
    "def main(event, system_content_summary, system_content_unbiased):\n",
    "    links = find_links(event, num_results=3)\n",
    "    news = scrape_links(links)\n",
    "    summary = []\n",
    "    summary_unbiased = []\n",
    "    for article in news:\n",
    "        output = groq_call(article, system_content_summary, max_tokens=8192)\n",
    "        summary.append(output)\n",
    "        output = groq_call(article, system_content_unbiased, max_tokens=8192)\n",
    "        summary_unbiased.append(output)\n",
    "    return summary, summary_unbiased"
   ],
   "outputs": [],
   "execution_count": 2
  },
  {
   "metadata": {
    "ExecuteTime": {
     "end_time": "2024-04-20T12:31:03.508158Z",
     "start_time": "2024-04-20T12:31:03.504411Z"
    }
   },
   "cell_type": "code",
   "source": [
    "system_content_summary = \"You are a AI journalist tasked with analyzing news articles. Your task is to provide a summary of the article based on the given content.\"\n",
    "\n",
    "system_content_summary_unbiased = \"You are an AI impartial journalist analyzing the news for political bias. Write a politically unbiased summary of the article, focusing on the key points and facts without injecting personal opinions.\"\n",
    "\n",
    "content_long = \"Here are some typical signs of political bias in news:\\nLoaded language: The use of emotionally charged or biased language to influence readers' opinions. This can include words or phrases that convey a particular viewpoint or judgment without presenting balanced information.\\nSelective reporting: Choosing to report only certain aspects of a story while ignoring others that may provide context or alternative viewpoints. This can lead to a skewed representation of events.\\nOmission of key information: Intentionally leaving out relevant facts or details that may contradict or weaken the narrative being presented. This can result in a one-sided portrayal of issues.\\nSource selection: Relying heavily on sources that align with a particular political ideology or agenda, while marginalizing or ignoring dissenting voices. This can create a perception of bias by presenting a limited range of perspectives.\\nFraming: Presenting information in a way that emphasizes one interpretation over others. This can involve highlighting certain aspects of a story while downplaying or minimizing others, influencing how readers perceive the issue.\\nSensationalism: Prioritizing sensational or attention-grabbing stories over more substantive or nuanced coverage. This can lead to exaggerated or misleading portrayals of events.\\nMisrepresentation: Distorting facts or events to fit a particular narrative or agenda. This can involve cherry-picking data, misquoting sources, or presenting information out of context.\\nBiased headlines: Crafting headlines that convey a particular viewpoint or interpretation of a story before readers have had a chance to assess the content. This can influence readers' perceptions before they've read the article.\\nOpinion masquerading as news: Blurring the line between opinion and factual reporting by interjecting personal bias or commentary into news articles. This can lead to a lack of objectivity in reporting.\\nConsistency of bias: Patterns of consistently favoring one political viewpoint or party over others in news coverage, over time. This can indicate systemic bias within a news organization.\""
   ],
   "id": "14f5f5fc7091645a",
   "outputs": [],
   "execution_count": 3
  },
  {
   "metadata": {
    "ExecuteTime": {
     "end_time": "2024-04-20T12:31:57.245830Z",
     "start_time": "2024-04-20T12:31:11.567461Z"
    }
   },
   "cell_type": "code",
   "source": [
    "# Select the event you want to analyze\n",
    "event = \"Ukraine war\"\n",
    "summary, summary_unbiased = main(event, system_content_summary, system_content_summary_unbiased+content_long)"
   ],
   "id": "af7425342cc4f279",
   "outputs": [
    {
     "name": "stdout",
     "output_type": "stream",
     "text": [
      "Scraping website https://www.cnn.com/2024/04/20/europe/russia-belgorod-impact-ukraine-war-intl-cmd/index.html...\n",
      "Scraping website https://www.theguardian.com/world/2024/apr/20/ukraine-war-briefing-kyiv-claims-bomber-shot-down-at-308km-range-after-crash-in-russia...\n",
      "Scraping website https://www.bbc.com/news/world-us-canada-68848277...\n"
     ]
    }
   ],
   "execution_count": 4
  },
  {
   "metadata": {
    "ExecuteTime": {
     "end_time": "2024-04-20T12:31:57.254281Z",
     "start_time": "2024-04-20T12:31:57.249710Z"
    }
   },
   "cell_type": "code",
   "source": "print(summary[0])",
   "id": "391108d98ebbca2c",
   "outputs": [
    {
     "name": "stdout",
     "output_type": "stream",
     "text": [
      "The article reports on the devastating impact of the war in Ukraine on the Russian city of Belgorod, located near the Ukrainian border. The city has been transformed into a \"ghost town\" with deserted streets, shuttered shops, and damaged buildings. The residents of Belgorod are living in fear, with daily shelling and drone attacks causing casualties and destruction. The city has become a key military hub for Russia's invading forces, and Ukraine has responded by targeting the region, leading to a significant escalation of violence.\n",
      "\n",
      "The article highlights the struggles of the residents, who are trying to navigate an uncertain future amidst the war. Many have chosen to stay in the city despite the danger, with some opting to move further away from the border. The authorities have evacuated around 5,000 children to safer regions, but many residents feel neglected by the media, authorities, and the broader Russian population.\n",
      "\n",
      "The article also mentions the rise in looting incidents in deserted areas, and the authorities' efforts to restore the border territories in time for Victory Day on May 9. The residents of Belgorod are becoming increasingly pessimistic about the future, with some expressing fear that the war will leave behind a \"scorched earth\" in the region.\n",
      "\n",
      "The article quotes several residents, including a volunteer who describes the city as \"lifeless\" and a human relations manager who expresses anxiety about the daily shelling and missile attacks. The article also mentions Russian President Vladimir Putin's expression of \"appreciation\" and \"admiration\" for the residents' courage, but notes that many residents feel neglected and overlooked by the authorities and the broader Russian population.\n"
     ]
    }
   ],
   "execution_count": 5
  },
  {
   "metadata": {
    "ExecuteTime": {
     "end_time": "2024-04-20T12:31:57.258822Z",
     "start_time": "2024-04-20T12:31:57.255768Z"
    }
   },
   "cell_type": "code",
   "source": "print(summary_unbiased[0])",
   "id": "4849aefcc6f4592e",
   "outputs": [
    {
     "name": "stdout",
     "output_type": "stream",
     "text": [
      "Here is a politically unbiased summary of the article:\n",
      "\n",
      "The article reports on the impact of the war in Ukraine on the Russian city of Belgorod, which is located near the Ukrainian border. The city has been subject to frequent shelling and drone attacks, causing damage to buildings, infrastructure, and daily life. Residents are living in fear, with many opting to stay indoors and avoiding public places. The city's streets are deserted, shops are closed, and essential services are disrupted.\n",
      "\n",
      "The article cites reports from residents, including a volunteer who describes the city as \"ghostly\" and \"lifeless.\" Another resident describes the fear and anxiety that accompanies daily life in Belgorod, where the sound of air raid sirens is a constant presence.\n",
      "\n",
      "The article also mentions the efforts of local authorities to evacuate children from the region and restore order to the border territories. However, the situation remains dire, with looting and crime on the rise in abandoned areas.\n",
      "\n",
      "The article does not take a political stance or express a personal opinion on the conflict. It presents a factual account of the situation in Belgorod, highlighting the human impact of the war on civilians.\n",
      "\n",
      "In terms of potential bias, the article does not contain loaded language, selective reporting, or omission of key information. The sources cited are primarily residents of Belgorod, which provides a firsthand account of the situation. The article does not contain sensational or misleading headlines, and the framing of the story is neutral and factual. Overall, the article presents a balanced and informative account of the situation in Belgorod.\n"
     ]
    }
   ],
   "execution_count": 6
  },
  {
   "metadata": {
    "ExecuteTime": {
     "end_time": "2024-04-20T12:32:13.537757Z",
     "start_time": "2024-04-20T12:32:11.200615Z"
    }
   },
   "cell_type": "code",
   "source": [
    "# Provide a list of URLs to analyze\n",
    "links = [\"https://www.nbcnews.com/news/asian-america/tom-cotton-backlash-tiktok-ceo-shou-chew-rcna136673\"]\n",
    "news = scrape_links(links)"
   ],
   "id": "90912fc219a74958",
   "outputs": [
    {
     "name": "stdout",
     "output_type": "stream",
     "text": [
      "Scraping website https://www.nbcnews.com/news/asian-america/tom-cotton-backlash-tiktok-ceo-shou-chew-rcna136673...\n"
     ]
    }
   ],
   "execution_count": 7
  },
  {
   "metadata": {
    "ExecuteTime": {
     "end_time": "2024-04-20T12:32:18.102538Z",
     "start_time": "2024-04-20T12:32:16.714900Z"
    }
   },
   "cell_type": "code",
   "source": [
    "output = groq_call(news[0], system_content_summary, max_tokens=8192)\n",
    "print(output)"
   ],
   "id": "4486f8f2cb18638b",
   "outputs": [
    {
     "name": "stdout",
     "output_type": "stream",
     "text": [
      "Here is a summary of the article:\n",
      "\n",
      "Senator Tom Cotton (R-Ark.) is facing backlash for repeatedly questioning TikTok CEO Shou Zi Chew about his citizenship and potential ties to the Chinese Communist Party during a Senate hearing on online child safety. Chew, who is Singaporean, repeatedly clarified his nationality and denied any affiliation with the Chinese Communist Party. Cotton's line of questioning has been criticized as racist and Sinophobic, with many on social media accusing him of perpetuating harmful stereotypes. Cotton defended his comments, stating that it was reasonable to investigate potential influence by the Chinese Communist Party. The hearing also featured CEOs from Meta, X, Discord, and Snap, who were questioned about their companies' positions on various pieces of legislation related to online safety.\n"
     ]
    }
   ],
   "execution_count": 8
  },
  {
   "metadata": {
    "ExecuteTime": {
     "end_time": "2024-04-20T12:45:27.347714Z",
     "start_time": "2024-04-20T12:45:24.158050Z"
    }
   },
   "cell_type": "code",
   "source": [
    "output = groq_call(news[0], system_content_summary_unbiased+content_long, max_tokens=8192)\n",
    "print(output)"
   ],
   "id": "59a174186a6f024c",
   "outputs": [
    {
     "name": "stdout",
     "output_type": "stream",
     "text": [
      "Here is a politically unbiased summary of the article:\n",
      "\n",
      "The article reports on a Senate hearing where Senator Tom Cotton (R-Ark.) questioned TikTok CEO Shou Zi Chew about his citizenship and potential ties to the Chinese Communist Party. Cotton repeatedly asked Chew about his residency, nationality, and relationship with the Chinese Communist Party, which sparked backlash on social media. Chew, who is Singaporean, denied any affiliation with the Chinese Communist Party. The exchange was criticized by some as racist and Sinophobic. Cotton defended his line of questioning, stating that it was reasonable to investigate potential influence by the Chinese Communist Party. The hearing was part of a broader discussion on online child safety and regulation of social media.\n",
      "\n",
      "Key points:\n",
      "\n",
      "* Senator Tom Cotton questioned TikTok CEO Shou Zi Chew about his citizenship and potential ties to the Chinese Communist Party.\n",
      "* Chew denied any affiliation with the Chinese Communist Party and stated that he is Singaporean.\n",
      "* The exchange sparked backlash on social media, with some accusing Cotton of racism and Sinophobia.\n",
      "* Cotton defended his line of questioning, citing concerns about potential influence by the Chinese Communist Party.\n",
      "* The hearing was part of a broader discussion on online child safety and regulation of social media.\n",
      "\n",
      "Facts:\n",
      "\n",
      "* Shou Zi Chew is the CEO of TikTok and is Singaporean.\n",
      "* Senator Tom Cotton is a Republican from Arkansas.\n",
      "* The Senate hearing focused on online child safety and regulation of social media.\n",
      "* Chew testified alongside the CEOs of Meta, X, Discord, and Snap.\n",
      "\n",
      "No loaded language, selective reporting, omission of key information, biased source selection, framing, sensationalism, misrepresentation, or biased headlines were detected in this article. The article presents a factual account of the Senate hearing and the subsequent backlash on social media.\n"
     ]
    }
   ],
   "execution_count": 11
  },
  {
   "metadata": {},
   "cell_type": "code",
   "outputs": [],
   "execution_count": null,
   "source": "",
   "id": "d448699ed1e8deba"
  }
 ],
 "metadata": {
  "kernelspec": {
   "display_name": "Python 3",
   "language": "python",
   "name": "python3"
  },
  "language_info": {
   "codemirror_mode": {
    "name": "ipython",
    "version": 2
   },
   "file_extension": ".py",
   "mimetype": "text/x-python",
   "name": "python",
   "nbconvert_exporter": "python",
   "pygments_lexer": "ipython2",
   "version": "2.7.6"
  }
 },
 "nbformat": 4,
 "nbformat_minor": 5
}
